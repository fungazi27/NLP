{
  "cells": [
    {
      "cell_type": "markdown",
      "metadata": {
        "id": "view-in-github",
        "colab_type": "text"
      },
      "source": [
        "<a href=\"https://colab.research.google.com/github/fungazi27/NLP/blob/main/recommend_system.ipynb\" target=\"_parent\"><img src=\"https://colab.research.google.com/assets/colab-badge.svg\" alt=\"Open In Colab\"/></a>"
      ]
    },
    {
      "cell_type": "code",
      "execution_count": null,
      "metadata": {
        "id": "LSlX2S-7o50T"
      },
      "outputs": [],
      "source": [
        "# Import necessary libraries\n",
        "import pandas as pd\n",
        "import numpy as np\n",
        "from gensim.models import Word2Vec\n",
        "from sklearn.metrics.pairwise import cosine_similarity\n",
        "from sklearn.feature_extraction.text import TfidfVectorizer\n",
        "\n",
        "url = \"https://raw.githubusercontent.com/fungazi27/NLP/refs/heads/main/simplified_coffee.csv\"\n",
        "df = pd.read_csv(url)"
      ]
    },
    {
      "cell_type": "code",
      "execution_count": null,
      "metadata": {
        "id": "KAIBKVcOo50X",
        "outputId": "c35542b2-99ed-48ad-dabe-2624f5ae5543"
      },
      "outputs": [
        {
          "data": {
            "text/html": [
              "<div>\n",
              "<style scoped>\n",
              "    .dataframe tbody tr th:only-of-type {\n",
              "        vertical-align: middle;\n",
              "    }\n",
              "\n",
              "    .dataframe tbody tr th {\n",
              "        vertical-align: top;\n",
              "    }\n",
              "\n",
              "    .dataframe thead th {\n",
              "        text-align: right;\n",
              "    }\n",
              "</style>\n",
              "<table border=\"1\" class=\"dataframe\">\n",
              "  <thead>\n",
              "    <tr style=\"text-align: right;\">\n",
              "      <th></th>\n",
              "      <th>name</th>\n",
              "      <th>roaster</th>\n",
              "      <th>roast</th>\n",
              "      <th>loc_country</th>\n",
              "      <th>origin</th>\n",
              "      <th>100g_USD</th>\n",
              "      <th>rating</th>\n",
              "      <th>review_date</th>\n",
              "      <th>review</th>\n",
              "    </tr>\n",
              "  </thead>\n",
              "  <tbody>\n",
              "    <tr>\n",
              "      <th>0</th>\n",
              "      <td>Ethiopia Shakiso Mormora</td>\n",
              "      <td>Revel Coffee</td>\n",
              "      <td>Medium-Light</td>\n",
              "      <td>United States</td>\n",
              "      <td>Ethiopia</td>\n",
              "      <td>4.70</td>\n",
              "      <td>92</td>\n",
              "      <td>November 2017</td>\n",
              "      <td>Crisply sweet, cocoa-toned. Lemon blossom, roa...</td>\n",
              "    </tr>\n",
              "    <tr>\n",
              "      <th>1</th>\n",
              "      <td>Ethiopia Suke Quto</td>\n",
              "      <td>Roast House</td>\n",
              "      <td>Medium-Light</td>\n",
              "      <td>United States</td>\n",
              "      <td>Ethiopia</td>\n",
              "      <td>4.19</td>\n",
              "      <td>92</td>\n",
              "      <td>November 2017</td>\n",
              "      <td>Delicate, sweetly spice-toned. Pink peppercorn...</td>\n",
              "    </tr>\n",
              "    <tr>\n",
              "      <th>2</th>\n",
              "      <td>Ethiopia Gedeb Halo Beriti</td>\n",
              "      <td>Big Creek Coffee Roasters</td>\n",
              "      <td>Medium</td>\n",
              "      <td>United States</td>\n",
              "      <td>Ethiopia</td>\n",
              "      <td>4.85</td>\n",
              "      <td>94</td>\n",
              "      <td>November 2017</td>\n",
              "      <td>Deeply sweet, subtly pungent. Honey, pear, tan...</td>\n",
              "    </tr>\n",
              "    <tr>\n",
              "      <th>3</th>\n",
              "      <td>Ethiopia Kayon Mountain</td>\n",
              "      <td>Red Rooster Coffee Roaster</td>\n",
              "      <td>Light</td>\n",
              "      <td>United States</td>\n",
              "      <td>Ethiopia</td>\n",
              "      <td>5.14</td>\n",
              "      <td>93</td>\n",
              "      <td>November 2017</td>\n",
              "      <td>Delicate, richly and sweetly tart. Dried hibis...</td>\n",
              "    </tr>\n",
              "    <tr>\n",
              "      <th>4</th>\n",
              "      <td>Ethiopia Gelgelu Natural Organic</td>\n",
              "      <td>Willoughby's Coffee &amp; Tea</td>\n",
              "      <td>Medium-Light</td>\n",
              "      <td>United States</td>\n",
              "      <td>Ethiopia</td>\n",
              "      <td>3.97</td>\n",
              "      <td>93</td>\n",
              "      <td>November 2017</td>\n",
              "      <td>High-toned, floral. Dried apricot, magnolia, a...</td>\n",
              "    </tr>\n",
              "  </tbody>\n",
              "</table>\n",
              "</div>"
            ],
            "text/plain": [
              "                               name                     roaster         roast  \\\n",
              "0          Ethiopia Shakiso Mormora                Revel Coffee  Medium-Light   \n",
              "1                Ethiopia Suke Quto                 Roast House  Medium-Light   \n",
              "2        Ethiopia Gedeb Halo Beriti   Big Creek Coffee Roasters        Medium   \n",
              "3           Ethiopia Kayon Mountain  Red Rooster Coffee Roaster         Light   \n",
              "4  Ethiopia Gelgelu Natural Organic   Willoughby's Coffee & Tea  Medium-Light   \n",
              "\n",
              "     loc_country    origin  100g_USD  rating    review_date  \\\n",
              "0  United States  Ethiopia      4.70      92  November 2017   \n",
              "1  United States  Ethiopia      4.19      92  November 2017   \n",
              "2  United States  Ethiopia      4.85      94  November 2017   \n",
              "3  United States  Ethiopia      5.14      93  November 2017   \n",
              "4  United States  Ethiopia      3.97      93  November 2017   \n",
              "\n",
              "                                              review  \n",
              "0  Crisply sweet, cocoa-toned. Lemon blossom, roa...  \n",
              "1  Delicate, sweetly spice-toned. Pink peppercorn...  \n",
              "2  Deeply sweet, subtly pungent. Honey, pear, tan...  \n",
              "3  Delicate, richly and sweetly tart. Dried hibis...  \n",
              "4  High-toned, floral. Dried apricot, magnolia, a...  "
            ]
          },
          "execution_count": 29,
          "metadata": {},
          "output_type": "execute_result"
        }
      ],
      "source": [
        "df.head()"
      ]
    },
    {
      "cell_type": "code",
      "execution_count": null,
      "metadata": {
        "id": "pzyz6rlCo50a",
        "outputId": "ae542b0f-39b6-47e6-eb72-9bdd9ed66a0d"
      },
      "outputs": [
        {
          "data": {
            "text/plain": [
              "0    Crisply sweet, cocoa-toned. Lemon blossom, roa...\n",
              "1    Delicate, sweetly spice-toned. Pink peppercorn...\n",
              "2    Deeply sweet, subtly pungent. Honey, pear, tan...\n",
              "3    Delicate, richly and sweetly tart. Dried hibis...\n",
              "4    High-toned, floral. Dried apricot, magnolia, a...\n",
              "Name: review, dtype: object"
            ]
          },
          "execution_count": 30,
          "metadata": {},
          "output_type": "execute_result"
        }
      ],
      "source": [
        "df['review'] = df['review'].fillna('')\n",
        "df['review'].head()"
      ]
    },
    {
      "cell_type": "code",
      "execution_count": null,
      "metadata": {
        "id": "fgD2no7co50c"
      },
      "outputs": [],
      "source": [
        "# Import necessary libraries for text preprocessing\n",
        "import nltk\n",
        "from nltk.corpus import stopwords\n",
        "from nltk.tokenize import word_tokenize\n",
        "from nltk.stem import WordNetLemmatizer"
      ]
    },
    {
      "cell_type": "code",
      "execution_count": null,
      "metadata": {
        "id": "Ajo2i7nuo50d",
        "outputId": "88ae15cf-10f1-4cc4-8112-f5d6070abcf6"
      },
      "outputs": [
        {
          "name": "stderr",
          "output_type": "stream",
          "text": [
            "[nltk_data] Downloading package punkt to\n",
            "[nltk_data]     C:\\Users\\Gabriel\\AppData\\Roaming\\nltk_data...\n",
            "[nltk_data]   Package punkt is already up-to-date!\n",
            "[nltk_data] Downloading package stopwords to\n",
            "[nltk_data]     C:\\Users\\Gabriel\\AppData\\Roaming\\nltk_data...\n",
            "[nltk_data]   Package stopwords is already up-to-date!\n",
            "[nltk_data] Downloading package wordnet to\n",
            "[nltk_data]     C:\\Users\\Gabriel\\AppData\\Roaming\\nltk_data...\n",
            "[nltk_data]   Package wordnet is already up-to-date!\n"
          ]
        },
        {
          "data": {
            "text/plain": [
              "True"
            ]
          },
          "execution_count": 32,
          "metadata": {},
          "output_type": "execute_result"
        }
      ],
      "source": [
        "# Download necessary NLTK data files (only need to run once)\n",
        "nltk.download('punkt')\n",
        "nltk.download('stopwords')\n",
        "nltk.download('wordnet')"
      ]
    },
    {
      "cell_type": "code",
      "execution_count": null,
      "metadata": {
        "id": "RpoOKVlMo50e"
      },
      "outputs": [],
      "source": [
        "def preprocess_text(text):\n",
        "    if not isinstance(text, str):\n",
        "        text = str(text)\n",
        "\n",
        "    text = text.lower()\n",
        "\n",
        "    tokens = word_tokenize(text)\n",
        "\n",
        "    stop_words = set(stopwords.words('english'))\n",
        "    tokens = [word for word in tokens if word.isalnum() and word not in stop_words]\n",
        "\n",
        "    lemmatizer = WordNetLemmatizer()\n",
        "    tokens = [lemmatizer.lemmatize(word) for word in tokens]\n",
        "\n",
        "    return tokens"
      ]
    },
    {
      "cell_type": "code",
      "execution_count": null,
      "metadata": {
        "id": "YcDEA0vQo50e",
        "outputId": "9729e8cf-762e-4130-ef8a-2e3d2d24a01d"
      },
      "outputs": [
        {
          "data": {
            "text/plain": [
              "0    [crisply, sweet, lemon, blossom, roasted, caca...\n",
              "1    [delicate, sweetly, pink, peppercorn, date, my...\n",
              "2    [deeply, sweet, subtly, pungent, honey, pear, ...\n",
              "3    [delicate, richly, sweetly, tart, dried, hibis...\n",
              "4    [floral, dried, apricot, magnolia, almond, but...\n",
              "Name: tokenized_review, dtype: object"
            ]
          },
          "execution_count": 34,
          "metadata": {},
          "output_type": "execute_result"
        }
      ],
      "source": [
        "df['tokenized_review'] = df['review'].astype(str)\n",
        "\n",
        "df['tokenized_review'] = df['tokenized_review'].apply(preprocess_text)\n",
        "\n",
        "df['tokenized_review'].head()"
      ]
    },
    {
      "cell_type": "code",
      "execution_count": null,
      "metadata": {
        "id": "1IF_3oEso50f",
        "outputId": "3ca7cd12-c326-4918-df5b-6156d0c63736"
      },
      "outputs": [
        {
          "name": "stdout",
          "output_type": "stream",
          "text": [
            "Vocab size: 1030\n"
          ]
        }
      ],
      "source": [
        "model = Word2Vec(sentences=df['tokenized_review'], vector_size=100, window=5, min_count=1, workers=4)\n",
        "print(f'Vocab size: {len(model.wv.index_to_key)}')"
      ]
    },
    {
      "cell_type": "code",
      "execution_count": null,
      "metadata": {
        "id": "06jPn-KSo50g",
        "outputId": "d1c9a40e-dc39-4eda-ca56-90125c71f1fa"
      },
      "outputs": [
        {
          "name": "stdout",
          "output_type": "stream",
          "text": [
            "                 0         1         2         3         4         5   \\\n",
            "cup       -0.124066  0.343009  0.163544  0.378252  0.186508 -0.537913   \n",
            "aroma     -0.124251  0.329232  0.171044  0.362466  0.197941 -0.527462   \n",
            "finish    -0.158716  0.372020  0.130278  0.341752  0.279460 -0.489300   \n",
            "mouthfeel -0.191672  0.387622  0.149840  0.332419  0.272711 -0.478792   \n",
            "structure -0.148422  0.324410  0.142565  0.323289  0.212690 -0.465323   \n",
            "acidity   -0.189029  0.347665  0.142073  0.302397  0.219239 -0.436900   \n",
            "chocolate -0.001963  0.327012  0.127657  0.438112  0.210155 -0.696339   \n",
            "sweet     -0.029814  0.314035  0.152003  0.409476  0.188919 -0.632328   \n",
            "note      -0.125452  0.386216  0.139561  0.402429  0.285635 -0.591503   \n",
            "richly    -0.008617  0.297540  0.124905  0.407690  0.181718 -0.660604   \n",
            "\n",
            "                 6         7         8         9   ...        90        91  \\\n",
            "cup        0.184595  0.774228 -0.414017 -0.390280  ...  0.538668  0.166871   \n",
            "aroma      0.173645  0.723544 -0.382016 -0.376348  ...  0.501121  0.151454   \n",
            "finish     0.124340  0.811758 -0.427150 -0.370603  ...  0.499232  0.215455   \n",
            "mouthfeel  0.133040  0.795151 -0.412790 -0.401377  ...  0.473647  0.187855   \n",
            "structure  0.159060  0.735760 -0.400703 -0.362487  ...  0.497607  0.150453   \n",
            "acidity    0.151592  0.747744 -0.414908 -0.389771  ...  0.488603  0.179321   \n",
            "chocolate  0.172983  0.771428 -0.370936 -0.343467  ...  0.596970  0.219208   \n",
            "sweet      0.172226  0.724413 -0.369589 -0.351079  ...  0.566565  0.180143   \n",
            "note       0.155218  0.817102 -0.409656 -0.370732  ...  0.555196  0.232772   \n",
            "richly     0.159837  0.701663 -0.339031 -0.316628  ...  0.548750  0.202713   \n",
            "\n",
            "                 92        93        94        95        96        97  \\\n",
            "cup       -0.004115  0.038137  0.364616  0.155297  0.276775 -0.151432   \n",
            "aroma      0.001599  0.033061  0.321639  0.123517  0.293426 -0.122482   \n",
            "finish    -0.021916  0.015804  0.407084  0.197874  0.305984 -0.156164   \n",
            "mouthfeel -0.051410 -0.001319  0.399645  0.188224  0.303947 -0.171978   \n",
            "structure -0.013085  0.008747  0.346399  0.131148  0.287561 -0.138021   \n",
            "acidity   -0.047519 -0.016458  0.369678  0.186065  0.271975 -0.175825   \n",
            "chocolate  0.040031  0.167452  0.377439  0.096280  0.311146 -0.078608   \n",
            "sweet      0.023129  0.141788  0.345338  0.089534  0.283333 -0.087114   \n",
            "note      -0.003557  0.079638  0.423198  0.178010  0.322999 -0.116310   \n",
            "richly     0.057065  0.163968  0.344295  0.054399  0.261482 -0.047232   \n",
            "\n",
            "                 98        99  \n",
            "cup       -0.047301  0.013261  \n",
            "aroma     -0.065234 -0.002963  \n",
            "finish    -0.054900 -0.068934  \n",
            "mouthfeel -0.069949 -0.053028  \n",
            "structure -0.048329 -0.002592  \n",
            "acidity   -0.060024 -0.016744  \n",
            "chocolate -0.043209 -0.083215  \n",
            "sweet     -0.032971 -0.057843  \n",
            "note      -0.053031 -0.107683  \n",
            "richly    -0.018067 -0.078644  \n",
            "\n",
            "[10 rows x 100 columns]\n"
          ]
        }
      ],
      "source": [
        "words = model.wv.index_to_key[:10]\n",
        "\n",
        "word_embeddings = [model.wv[word] for word in words]\n",
        "embeddings_df = pd.DataFrame(word_embeddings, index=words)\n",
        "\n",
        "print(embeddings_df)"
      ]
    },
    {
      "cell_type": "code",
      "execution_count": null,
      "metadata": {
        "id": "GS6Tjf2Xo50h"
      },
      "outputs": [],
      "source": [
        "def get_coffee_embeddings(tokenized_text, model, embedding_size=100):\n",
        "    valid_embeddings = [model.wv[word] for word in tokenized_text if word in model.wv]\n",
        "\n",
        "    if len(valid_embeddings) == 0:\n",
        "        return np.zeros(embedding_size)\n",
        "\n",
        "    return np.mean(valid_embeddings, axis=0)\n",
        "\n",
        "embedding_size = model.vector_size\n",
        "df['coffee_embeddings'] = df['tokenized_review'].apply(lambda x: get_coffee_embeddings(x, model, embedding_size=embedding_size))"
      ]
    },
    {
      "cell_type": "code",
      "execution_count": null,
      "metadata": {
        "id": "YcCcOdXho50i",
        "outputId": "f1fa0749-7a61-4659-f8ba-2bd87732ad2a"
      },
      "outputs": [
        {
          "name": "stdout",
          "output_type": "stream",
          "text": [
            "Number of invalid embedding: 0\n"
          ]
        }
      ],
      "source": [
        "invalid_embeddings = df['coffee_embeddings'].apply(lambda x: x.shape[0] != embedding_size or np.any(np.isnan(x)))\n",
        "\n",
        "print(f'Number of invalid embedding: {invalid_embeddings.sum()}')\n",
        "\n",
        "df = df[~invalid_embeddings]"
      ]
    },
    {
      "cell_type": "code",
      "execution_count": null,
      "metadata": {
        "id": "xzP53F3co50j"
      },
      "outputs": [],
      "source": [
        "# Import necessary libraries for visualization\n",
        "import matplotlib.pyplot as plt\n",
        "from sklearn.decomposition import PCA"
      ]
    },
    {
      "cell_type": "code",
      "execution_count": null,
      "metadata": {
        "id": "4cvnF0DQo50k",
        "outputId": "3423edea-0700-46a1-e371-6be57b2fedf9"
      },
      "outputs": [
        {
          "data": {
            "image/png": "[encoded data removed]",
            "text/plain": [
              "<Figure size 1000x800 with 1 Axes>"
            ]
          },
          "metadata": {},
          "output_type": "display_data"
        }
      ],
      "source": [
        "words = list(model.wv.index_to_key)[:30]\n",
        "\n",
        "word_vectors = [model.wv[word] for word in words]\n",
        "\n",
        "pca = PCA(n_components=2)\n",
        "word_vectors_pca = pca.fit_transform(word_vectors)\n",
        "\n",
        "plt.figure(figsize=(10, 8))\n",
        "plt.scatter(word_vectors_pca[:, 0], word_vectors_pca[:, 1], c='blue')\n",
        "\n",
        "for i, word in enumerate(words):\n",
        "    plt.annotate(word, xy=(word_vectors_pca[i, 0], word_vectors_pca[i, 1]))\n",
        "\n",
        "plt.title('Word Embeddings Visualization using PCA')\n",
        "plt.xlabel('Principal Component 1')\n",
        "plt.ylabel('Principal Component 2')\n",
        "plt.grid()\n",
        "plt.show()"
      ]
    },
    {
      "cell_type": "code",
      "execution_count": null,
      "metadata": {
        "id": "2GPXJadso50l",
        "outputId": "d01c2113-95ca-47a3-ffa1-1fe67e91694e"
      },
      "outputs": [
        {
          "data": {
            "text/html": [
              "<div>\n",
              "<style scoped>\n",
              "    .dataframe tbody tr th:only-of-type {\n",
              "        vertical-align: middle;\n",
              "    }\n",
              "\n",
              "    .dataframe tbody tr th {\n",
              "        vertical-align: top;\n",
              "    }\n",
              "\n",
              "    .dataframe thead th {\n",
              "        text-align: right;\n",
              "    }\n",
              "</style>\n",
              "<table border=\"1\" class=\"dataframe\">\n",
              "  <thead>\n",
              "    <tr style=\"text-align: right;\">\n",
              "      <th>roaster</th>\n",
              "      <th>Revel Coffee</th>\n",
              "      <th>Roast House</th>\n",
              "      <th>Big Creek Coffee Roasters</th>\n",
              "      <th>Red Rooster Coffee Roaster</th>\n",
              "      <th>Willoughby's Coffee &amp; Tea</th>\n",
              "      <th>Black Oak Coffee Roasters</th>\n",
              "      <th>Wonderstate Coffee</th>\n",
              "      <th>Reunion Island Coffee</th>\n",
              "      <th>Old Soul Co.</th>\n",
              "      <th>A.R.C.</th>\n",
              "      <th>...</th>\n",
              "      <th>Noble Coffee Roasting</th>\n",
              "      <th>Ben's Beans</th>\n",
              "      <th>Espresso Republic</th>\n",
              "      <th>Roast House</th>\n",
              "      <th>Good Folks Coffee</th>\n",
              "      <th>Flight Coffee Co.</th>\n",
              "      <th>Green Stone Coffee</th>\n",
              "      <th>Willoughby's Coffee &amp; Tea</th>\n",
              "      <th>Equator Coffees &amp; Teas</th>\n",
              "      <th>Hula Daddy Kona Coffee</th>\n",
              "    </tr>\n",
              "    <tr>\n",
              "      <th>roaster</th>\n",
              "      <th></th>\n",
              "      <th></th>\n",
              "      <th></th>\n",
              "      <th></th>\n",
              "      <th></th>\n",
              "      <th></th>\n",
              "      <th></th>\n",
              "      <th></th>\n",
              "      <th></th>\n",
              "      <th></th>\n",
              "      <th></th>\n",
              "      <th></th>\n",
              "      <th></th>\n",
              "      <th></th>\n",
              "      <th></th>\n",
              "      <th></th>\n",
              "      <th></th>\n",
              "      <th></th>\n",
              "      <th></th>\n",
              "      <th></th>\n",
              "      <th></th>\n",
              "    </tr>\n",
              "  </thead>\n",
              "  <tbody>\n",
              "    <tr>\n",
              "      <th>Revel Coffee</th>\n",
              "      <td>1.000000</td>\n",
              "      <td>0.999481</td>\n",
              "      <td>0.999905</td>\n",
              "      <td>0.999856</td>\n",
              "      <td>0.999848</td>\n",
              "      <td>0.999923</td>\n",
              "      <td>0.999859</td>\n",
              "      <td>0.999910</td>\n",
              "      <td>0.999923</td>\n",
              "      <td>0.999805</td>\n",
              "      <td>...</td>\n",
              "      <td>0.999848</td>\n",
              "      <td>0.999508</td>\n",
              "      <td>0.999909</td>\n",
              "      <td>0.999928</td>\n",
              "      <td>0.999915</td>\n",
              "      <td>0.999572</td>\n",
              "      <td>0.999109</td>\n",
              "      <td>0.999789</td>\n",
              "      <td>0.999609</td>\n",
              "      <td>0.999587</td>\n",
              "    </tr>\n",
              "    <tr>\n",
              "      <th>Roast House</th>\n",
              "      <td>0.999481</td>\n",
              "      <td>1.000000</td>\n",
              "      <td>0.999729</td>\n",
              "      <td>0.999808</td>\n",
              "      <td>0.999816</td>\n",
              "      <td>0.999692</td>\n",
              "      <td>0.999818</td>\n",
              "      <td>0.999740</td>\n",
              "      <td>0.999589</td>\n",
              "      <td>0.999868</td>\n",
              "      <td>...</td>\n",
              "      <td>0.999832</td>\n",
              "      <td>0.999908</td>\n",
              "      <td>0.999476</td>\n",
              "      <td>0.999271</td>\n",
              "      <td>0.999613</td>\n",
              "      <td>0.999929</td>\n",
              "      <td>0.999875</td>\n",
              "      <td>0.999881</td>\n",
              "      <td>0.999868</td>\n",
              "      <td>0.999905</td>\n",
              "    </tr>\n",
              "    <tr>\n",
              "      <th>Big Creek Coffee Roasters</th>\n",
              "      <td>0.999905</td>\n",
              "      <td>0.999729</td>\n",
              "      <td>1.000000</td>\n",
              "      <td>0.999946</td>\n",
              "      <td>0.999946</td>\n",
              "      <td>0.999943</td>\n",
              "      <td>0.999899</td>\n",
              "      <td>0.999928</td>\n",
              "      <td>0.999897</td>\n",
              "      <td>0.999940</td>\n",
              "      <td>...</td>\n",
              "      <td>0.999943</td>\n",
              "      <td>0.999790</td>\n",
              "      <td>0.999921</td>\n",
              "      <td>0.999834</td>\n",
              "      <td>0.999963</td>\n",
              "      <td>0.999822</td>\n",
              "      <td>0.999519</td>\n",
              "      <td>0.999933</td>\n",
              "      <td>0.999855</td>\n",
              "      <td>0.999768</td>\n",
              "    </tr>\n",
              "    <tr>\n",
              "      <th>Red Rooster Coffee Roaster</th>\n",
              "      <td>0.999856</td>\n",
              "      <td>0.999808</td>\n",
              "      <td>0.999946</td>\n",
              "      <td>1.000000</td>\n",
              "      <td>0.999938</td>\n",
              "      <td>0.999941</td>\n",
              "      <td>0.999943</td>\n",
              "      <td>0.999927</td>\n",
              "      <td>0.999907</td>\n",
              "      <td>0.999932</td>\n",
              "      <td>...</td>\n",
              "      <td>0.999963</td>\n",
              "      <td>0.999825</td>\n",
              "      <td>0.999842</td>\n",
              "      <td>0.999765</td>\n",
              "      <td>0.999879</td>\n",
              "      <td>0.999832</td>\n",
              "      <td>0.999581</td>\n",
              "      <td>0.999956</td>\n",
              "      <td>0.999861</td>\n",
              "      <td>0.999863</td>\n",
              "    </tr>\n",
              "    <tr>\n",
              "      <th>Willoughby's Coffee &amp; Tea</th>\n",
              "      <td>0.999848</td>\n",
              "      <td>0.999816</td>\n",
              "      <td>0.999946</td>\n",
              "      <td>0.999938</td>\n",
              "      <td>1.000000</td>\n",
              "      <td>0.999932</td>\n",
              "      <td>0.999937</td>\n",
              "      <td>0.999911</td>\n",
              "      <td>0.999859</td>\n",
              "      <td>0.999953</td>\n",
              "      <td>...</td>\n",
              "      <td>0.999959</td>\n",
              "      <td>0.999861</td>\n",
              "      <td>0.999866</td>\n",
              "      <td>0.999756</td>\n",
              "      <td>0.999908</td>\n",
              "      <td>0.999883</td>\n",
              "      <td>0.999640</td>\n",
              "      <td>0.999931</td>\n",
              "      <td>0.999892</td>\n",
              "      <td>0.999853</td>\n",
              "    </tr>\n",
              "  </tbody>\n",
              "</table>\n",
              "<p>5 rows × 30 columns</p>\n",
              "</div>"
            ],
            "text/plain": [
              "roaster                     Revel Coffee  Roast House  \\\n",
              "roaster                                                 \n",
              "Revel Coffee                    1.000000     0.999481   \n",
              "Roast House                     0.999481     1.000000   \n",
              "Big Creek Coffee Roasters       0.999905     0.999729   \n",
              "Red Rooster Coffee Roaster      0.999856     0.999808   \n",
              "Willoughby's Coffee & Tea       0.999848     0.999816   \n",
              "\n",
              "roaster                     Big Creek Coffee Roasters  \\\n",
              "roaster                                                 \n",
              "Revel Coffee                                 0.999905   \n",
              "Roast House                                  0.999729   \n",
              "Big Creek Coffee Roasters                    1.000000   \n",
              "Red Rooster Coffee Roaster                   0.999946   \n",
              "Willoughby's Coffee & Tea                    0.999946   \n",
              "\n",
              "roaster                     Red Rooster Coffee Roaster  \\\n",
              "roaster                                                  \n",
              "Revel Coffee                                  0.999856   \n",
              "Roast House                                   0.999808   \n",
              "Big Creek Coffee Roasters                     0.999946   \n",
              "Red Rooster Coffee Roaster                    1.000000   \n",
              "Willoughby's Coffee & Tea                     0.999938   \n",
              "\n",
              "roaster                     Willoughby's Coffee & Tea  \\\n",
              "roaster                                                 \n",
              "Revel Coffee                                 0.999848   \n",
              "Roast House                                  0.999816   \n",
              "Big Creek Coffee Roasters                    0.999946   \n",
              "Red Rooster Coffee Roaster                   0.999938   \n",
              "Willoughby's Coffee & Tea                    1.000000   \n",
              "\n",
              "roaster                     Black Oak Coffee Roasters  Wonderstate Coffee  \\\n",
              "roaster                                                                     \n",
              "Revel Coffee                                 0.999923            0.999859   \n",
              "Roast House                                  0.999692            0.999818   \n",
              "Big Creek Coffee Roasters                    0.999943            0.999899   \n",
              "Red Rooster Coffee Roaster                   0.999941            0.999943   \n",
              "Willoughby's Coffee & Tea                    0.999932            0.999937   \n",
              "\n",
              "roaster                     Reunion Island Coffee  Old Soul Co.    A.R.C.  \\\n",
              "roaster                                                                     \n",
              "Revel Coffee                             0.999910      0.999923  0.999805   \n",
              "Roast House                              0.999740      0.999589  0.999868   \n",
              "Big Creek Coffee Roasters                0.999928      0.999897  0.999940   \n",
              "Red Rooster Coffee Roaster               0.999927      0.999907  0.999932   \n",
              "Willoughby's Coffee & Tea                0.999911      0.999859  0.999953   \n",
              "\n",
              "roaster                     ...  Noble Coffee Roasting  Ben's Beans  \\\n",
              "roaster                     ...                                       \n",
              "Revel Coffee                ...               0.999848     0.999508   \n",
              "Roast House                 ...               0.999832     0.999908   \n",
              "Big Creek Coffee Roasters   ...               0.999943     0.999790   \n",
              "Red Rooster Coffee Roaster  ...               0.999963     0.999825   \n",
              "Willoughby's Coffee & Tea   ...               0.999959     0.999861   \n",
              "\n",
              "roaster                     Espresso Republic  Roast House  Good Folks Coffee  \\\n",
              "roaster                                                                         \n",
              "Revel Coffee                         0.999909     0.999928           0.999915   \n",
              "Roast House                          0.999476     0.999271           0.999613   \n",
              "Big Creek Coffee Roasters            0.999921     0.999834           0.999963   \n",
              "Red Rooster Coffee Roaster           0.999842     0.999765           0.999879   \n",
              "Willoughby's Coffee & Tea            0.999866     0.999756           0.999908   \n",
              "\n",
              "roaster                     Flight Coffee Co.  Green Stone Coffee  \\\n",
              "roaster                                                             \n",
              "Revel Coffee                         0.999572            0.999109   \n",
              "Roast House                          0.999929            0.999875   \n",
              "Big Creek Coffee Roasters            0.999822            0.999519   \n",
              "Red Rooster Coffee Roaster           0.999832            0.999581   \n",
              "Willoughby's Coffee & Tea            0.999883            0.999640   \n",
              "\n",
              "roaster                     Willoughby's Coffee & Tea  Equator Coffees & Teas  \\\n",
              "roaster                                                                         \n",
              "Revel Coffee                                 0.999789                0.999609   \n",
              "Roast House                                  0.999881                0.999868   \n",
              "Big Creek Coffee Roasters                    0.999933                0.999855   \n",
              "Red Rooster Coffee Roaster                   0.999956                0.999861   \n",
              "Willoughby's Coffee & Tea                    0.999931                0.999892   \n",
              "\n",
              "roaster                     Hula Daddy Kona Coffee  \n",
              "roaster                                             \n",
              "Revel Coffee                              0.999587  \n",
              "Roast House                               0.999905  \n",
              "Big Creek Coffee Roasters                 0.999768  \n",
              "Red Rooster Coffee Roaster                0.999863  \n",
              "Willoughby's Coffee & Tea                 0.999853  \n",
              "\n",
              "[5 rows x 30 columns]"
            ]
          },
          "execution_count": 41,
          "metadata": {},
          "output_type": "execute_result"
        }
      ],
      "source": [
        "embeddings_matrix = np.vstack(df['coffee_embeddings'].values)\n",
        "cosine_sim = cosine_similarity(embeddings_matrix)\n",
        "\n",
        "cosine_sim_df = pd.DataFrame(cosine_sim, index=df['roaster'], columns=df['roaster'])\n",
        "\n",
        "cosine_sim_df_subset = cosine_sim_df.iloc[:30, :30]\n",
        "cosine_sim_df_subset.head()"
      ]
    },
    {
      "cell_type": "code",
      "execution_count": null,
      "metadata": {
        "id": "WNnm9Bzxo50l"
      },
      "outputs": [],
      "source": [
        "coffee_indices = pd.Series(df.index, index=df['roaster']).drop_duplicates()\n",
        "\n",
        "def recommend_coffee(roaster, cosine_sim=cosine_sim, df=df, coffee_indices=coffee_indices):\n",
        "    idx = coffee_indices[roaster]\n",
        "\n",
        "    sim_scores = list(enumerate(cosine_sim[idx]))\n",
        "\n",
        "    sim_scores = sorted(sim_scores, key=lambda x: x[1], reverse=True)\n",
        "\n",
        "    sim_scores = sim_scores[1:11]\n",
        "\n",
        "    coffee_indices = [i[0] for i in sim_scores]\n",
        "\n",
        "    return df['roaster'].iloc[coffee_indices]"
      ]
    },
    {
      "cell_type": "code",
      "execution_count": null,
      "metadata": {
        "id": "GVqC8odpo50m",
        "outputId": "72291dcc-ea96-4d8c-b2b5-d0aac99a8036"
      },
      "outputs": [
        {
          "ename": "ValueError",
          "evalue": "The truth value of an array with more than one element is ambiguous. Use a.any() or a.all()",
          "output_type": "error",
          "traceback": [
            "\u001b[1;31m---------------------------------------------------------------------------\u001b[0m",
            "\u001b[1;31mValueError\u001b[0m                                Traceback (most recent call last)",
            "Cell \u001b[1;32mIn[42], line 1\u001b[0m\n\u001b[1;32m----> 1\u001b[0m recommendations \u001b[38;5;241m=\u001b[39m \u001b[43mrecommend_coffee\u001b[49m\u001b[43m(\u001b[49m\u001b[38;5;124;43m'\u001b[39;49m\u001b[38;5;124;43mRoast House\u001b[39;49m\u001b[38;5;124;43m'\u001b[39;49m\u001b[43m)\u001b[49m\n\u001b[0;32m      2\u001b[0m \u001b[38;5;28mprint\u001b[39m(recommendations)\n",
            "Cell \u001b[1;32mIn[27], line 8\u001b[0m, in \u001b[0;36mrecommend_coffee\u001b[1;34m(roaster, cosine_sim, df, coffee_indices)\u001b[0m\n\u001b[0;32m      4\u001b[0m idx \u001b[38;5;241m=\u001b[39m coffee_indices[roaster]\n\u001b[0;32m      6\u001b[0m sim_scores \u001b[38;5;241m=\u001b[39m \u001b[38;5;28mlist\u001b[39m(\u001b[38;5;28menumerate\u001b[39m(cosine_sim[idx]))\n\u001b[1;32m----> 8\u001b[0m sim_scores \u001b[38;5;241m=\u001b[39m \u001b[38;5;28;43msorted\u001b[39;49m\u001b[43m(\u001b[49m\u001b[43msim_scores\u001b[49m\u001b[43m,\u001b[49m\u001b[43m \u001b[49m\u001b[43mkey\u001b[49m\u001b[38;5;241;43m=\u001b[39;49m\u001b[38;5;28;43;01mlambda\u001b[39;49;00m\u001b[43m \u001b[49m\u001b[43mx\u001b[49m\u001b[43m:\u001b[49m\u001b[43m \u001b[49m\u001b[43mx\u001b[49m\u001b[43m[\u001b[49m\u001b[38;5;241;43m1\u001b[39;49m\u001b[43m]\u001b[49m\u001b[43m,\u001b[49m\u001b[43m \u001b[49m\u001b[43mreverse\u001b[49m\u001b[38;5;241;43m=\u001b[39;49m\u001b[38;5;28;43;01mTrue\u001b[39;49;00m\u001b[43m)\u001b[49m\n\u001b[0;32m     10\u001b[0m sim_scores \u001b[38;5;241m=\u001b[39m sim_scores[\u001b[38;5;241m1\u001b[39m:\u001b[38;5;241m11\u001b[39m]\n\u001b[0;32m     12\u001b[0m coffee_indices \u001b[38;5;241m=\u001b[39m [i[\u001b[38;5;241m0\u001b[39m] \u001b[38;5;28;01mfor\u001b[39;00m i \u001b[38;5;129;01min\u001b[39;00m sim_scores]\n",
            "\u001b[1;31mValueError\u001b[0m: The truth value of an array with more than one element is ambiguous. Use a.any() or a.all()"
          ]
        }
      ],
      "source": [
        "recommendations = recommend_coffee('Roast House')\n",
        "print(recommendations)"
      ]
    },
    {
      "cell_type": "code",
      "execution_count": null,
      "metadata": {
        "id": "fl2sRIA_o50m"
      },
      "outputs": [],
      "source": [
        "'''\n",
        "# Import necessary libraries\n",
        "import pandas as pd\n",
        "import numpy as np\n",
        "from sklearn.metrics import jaccard_score\n",
        "from sklearn.preprocessing import MultiLabelBinarizer\n",
        "'''"
      ]
    },
    {
      "cell_type": "code",
      "execution_count": null,
      "metadata": {
        "id": "-kQgAujYo50n"
      },
      "outputs": [],
      "source": [
        "#mlb = MultiLabelBinarizer()\n",
        "#binary_matrix = mlb.fit_transform(df['tokenized_review'])"
      ]
    },
    {
      "cell_type": "code",
      "execution_count": null,
      "metadata": {
        "id": "71017DOHo50n"
      },
      "outputs": [],
      "source": [
        "#jacard_sim = np.zeros((binary_matrix.shape[0], binary_matrix.shape[0]))"
      ]
    },
    {
      "cell_type": "code",
      "execution_count": null,
      "metadata": {
        "id": "yEKvgLjco50o"
      },
      "outputs": [],
      "source": [
        "'''\n",
        "for i in range(binary_matrix.shape[0]):\n",
        "    for j in range (binary_matrix.shape[0]):\n",
        "        jacard_sim[i][j] = jaccard_score(binary_matrix[i], binary_matrix[j])\n",
        "'''"
      ]
    },
    {
      "cell_type": "code",
      "execution_count": null,
      "metadata": {
        "id": "-xDJg5afo50o"
      },
      "outputs": [],
      "source": [
        "#jaccard_sim_df = pd.DataFrame(jaccard_sim, index=df['roaster'], columns=df['roaster'])"
      ]
    },
    {
      "cell_type": "code",
      "execution_count": null,
      "metadata": {
        "id": "t4MFqv8Vo50o"
      },
      "outputs": [],
      "source": [
        "#jaccard_sim_df_subset = jaccard_sim_df.iloc[:30, :30]"
      ]
    },
    {
      "cell_type": "code",
      "execution_count": null,
      "metadata": {
        "id": "TL0EHK5go50p"
      },
      "outputs": [],
      "source": [
        "#import ace_tools as tools"
      ]
    }
  ],
  "metadata": {
    "kernelspec": {
      "display_name": "Python 3",
      "language": "python",
      "name": "python3"
    },
    "language_info": {
      "codemirror_mode": {
        "name": "ipython",
        "version": 3
      },
      "file_extension": ".py",
      "mimetype": "text/x-python",
      "name": "python",
      "nbconvert_exporter": "python",
      "pygments_lexer": "ipython3",
      "version": "3.12.0"
    },
    "colab": {
      "provenance": [],
      "include_colab_link": true
    }
  },
  "nbformat": 4,
  "nbformat_minor": 0
}